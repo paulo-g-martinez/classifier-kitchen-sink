{
 "cells": [
  {
   "cell_type": "markdown",
   "metadata": {},
   "source": [
    "# Compare Classifiers\n",
    "*Paulo G. Martinez* Fri. Apr. 3, 2020\n",
    "\n",
    "---"
   ]
  },
  {
   "cell_type": "markdown",
   "metadata": {},
   "source": [
    "# classifier-kitchen-sink\n",
    "Attempt efficient classifier comparison and promotion\n",
    "\n",
    "## This is an experiment in \"elegant brute force.\"\n",
    "- Given a \"large\" but \"tidy\" data set with a \"wide\" set of potentially sparse and or redundant numeric, categorical, and datetime features and multiple \"imbalaced\" targets (not a multi class column, but two or more binary class target columns)\n",
    "  - Attempt to find an efficient way of comparing the success of various classification models \n",
    "  -   each with various model configurations\n",
    "\n",
    "P1. One of the premises of this experiment is that it would take \"too much\" time to assess the viability, let alone solve the problem using a \"traditional\" domain-knowledge based approach.\n",
    "P2. Another premise is that compute and memory resources are so limited that a brute force iteration through models would also take \"too long.\"\n",
    "\n",
    "## Workflow_1.0\n",
    "\"Failing Fast.\" We begin with the most difficult but easiest to compute configurations in hopes of fiding success before having to \"bloat\" all the way up to full brute-force iteration\n",
    "\n",
    "For each binary-classification target\n",
    "- find \"natural\" class_weights\n",
    "- for sample_size in [small, medium, ... large, full]:\n",
    "  - for weight_balance in [natural_weights, slight_upsample, ..., aggressive_upsample]:\n",
    "    - for model in [rf, cnb, boost, etc]:\n",
    "      - pre-process features\n",
    "        - impute nulls\n",
    "        - perhaps scale\n",
    "        - fit, train, test model\n",
    "        - score model\n",
    "        - score feature importance\n",
    "        - while model scores unsatisfactorily and features refinement is possible:\n",
    "          - refine feature selection\n",
    "          - refit, retrain, retest, rescore\n",
    "          - (if model fails to score satisfactorily move on to next model)\n",
    "        - **if model scores satisfactorily on sample**\n",
    "          - save model, its score and config to \"training_sample_weight_success\"\n",
    "          - while unsampled training data is available:\n",
    "            - out_of_sample test and score model on increasingly larger samples\n",
    "            - **if model scores satisfactorily when \"generalized\" to data out of its training sample:**\n",
    "              - save model, its score and config to \"training_sample_weight_generalsample_success\"\n",
    "              - (if model failed to generalize well move on to next model)\n",
    "      - (when all models have been evaluated on this class weight, upsample and repeat.)\n",
    "    - (when all weight resampling's have been attempted increase the samle size and repeat.)\n",
    "\n"
   ]
  },
  {
   "cell_type": "markdown",
   "metadata": {},
   "source": [
    "**prep environment**"
   ]
  },
  {
   "cell_type": "code",
   "execution_count": 28,
   "metadata": {},
   "outputs": [],
   "source": [
    "# import open source software packages\n",
    "# numerical manipulation and analysis\n",
    "import numpy as np\n",
    "# data frame manipulation and analysis\n",
    "import pandas as pd\n",
    "\n",
    "# import builtins\n",
    "from datetime import datetime\n",
    "import re\n",
    "\n",
    "# visualizations\n",
    "import matplotlib.pyplot as plt\n",
    "import seaborn as sns\n",
    "\n",
    "# notebook variables\n",
    "notebook_verbose = True"
   ]
  },
  {
   "cell_type": "markdown",
   "metadata": {},
   "source": [
    "**load data**\n",
    "Use titanic data set for its mix of numeric and categoricals"
   ]
  },
  {
   "cell_type": "code",
   "execution_count": 4,
   "metadata": {},
   "outputs": [
    {
     "data": {
      "text/html": [
       "<div>\n",
       "<style scoped>\n",
       "    .dataframe tbody tr th:only-of-type {\n",
       "        vertical-align: middle;\n",
       "    }\n",
       "\n",
       "    .dataframe tbody tr th {\n",
       "        vertical-align: top;\n",
       "    }\n",
       "\n",
       "    .dataframe thead th {\n",
       "        text-align: right;\n",
       "    }\n",
       "</style>\n",
       "<table border=\"1\" class=\"dataframe\">\n",
       "  <thead>\n",
       "    <tr style=\"text-align: right;\">\n",
       "      <th></th>\n",
       "      <th>Survived</th>\n",
       "      <th>Pclass</th>\n",
       "      <th>Name</th>\n",
       "      <th>Sex</th>\n",
       "      <th>Age</th>\n",
       "      <th>SibSp</th>\n",
       "      <th>Parch</th>\n",
       "      <th>Ticket</th>\n",
       "      <th>Fare</th>\n",
       "      <th>Cabin</th>\n",
       "      <th>EMBARKED</th>\n",
       "      <th>EMBARKED_S</th>\n",
       "      <th>EMBARKED_C</th>\n",
       "      <th>EMBARKED_Q</th>\n",
       "    </tr>\n",
       "  </thead>\n",
       "  <tbody>\n",
       "    <tr>\n",
       "      <th>0</th>\n",
       "      <td>0.0</td>\n",
       "      <td>3</td>\n",
       "      <td>braund</td>\n",
       "      <td>male</td>\n",
       "      <td>22.0</td>\n",
       "      <td>1</td>\n",
       "      <td>0</td>\n",
       "      <td>a</td>\n",
       "      <td>7.2500</td>\n",
       "      <td>NaN</td>\n",
       "      <td>S</td>\n",
       "      <td>True</td>\n",
       "      <td>False</td>\n",
       "      <td>False</td>\n",
       "    </tr>\n",
       "    <tr>\n",
       "      <th>1</th>\n",
       "      <td>1.0</td>\n",
       "      <td>1</td>\n",
       "      <td>cumings</td>\n",
       "      <td>female</td>\n",
       "      <td>38.0</td>\n",
       "      <td>1</td>\n",
       "      <td>0</td>\n",
       "      <td>pc</td>\n",
       "      <td>71.2833</td>\n",
       "      <td>C85</td>\n",
       "      <td>C</td>\n",
       "      <td>False</td>\n",
       "      <td>True</td>\n",
       "      <td>False</td>\n",
       "    </tr>\n",
       "  </tbody>\n",
       "</table>\n",
       "</div>"
      ],
      "text/plain": [
       "   Survived  Pclass     Name     Sex   Age  SibSp  Parch Ticket     Fare  \\\n",
       "0       0.0       3   braund    male  22.0      1      0      a   7.2500   \n",
       "1       1.0       1  cumings  female  38.0      1      0     pc  71.2833   \n",
       "\n",
       "  Cabin EMBARKED  EMBARKED_S  EMBARKED_C  EMBARKED_Q  \n",
       "0   NaN        S        True       False       False  \n",
       "1   C85        C       False        True       False  "
      ]
     },
     "execution_count": 4,
     "metadata": {},
     "output_type": "execute_result"
    }
   ],
   "source": [
    "# load data\n",
    "data_df = pd.read_csv('data/semi_processed_all.csv')\n",
    "data_df.head(2)"
   ]
  },
  {
   "cell_type": "code",
   "execution_count": 5,
   "metadata": {},
   "outputs": [
    {
     "name": "stdout",
     "output_type": "stream",
     "text": [
      "<class 'pandas.core.frame.DataFrame'>\n",
      "RangeIndex: 1309 entries, 0 to 1308\n",
      "Data columns (total 14 columns):\n",
      " #   Column      Non-Null Count  Dtype  \n",
      "---  ------      --------------  -----  \n",
      " 0   Survived    891 non-null    float64\n",
      " 1   Pclass      1309 non-null   int64  \n",
      " 2   Name        1309 non-null   object \n",
      " 3   Sex         1309 non-null   object \n",
      " 4   Age         1046 non-null   float64\n",
      " 5   SibSp       1309 non-null   int64  \n",
      " 6   Parch       1309 non-null   int64  \n",
      " 7   Ticket      352 non-null    object \n",
      " 8   Fare        1308 non-null   float64\n",
      " 9   Cabin       295 non-null    object \n",
      " 10  EMBARKED    1307 non-null   object \n",
      " 11  EMBARKED_S  1309 non-null   bool   \n",
      " 12  EMBARKED_C  1309 non-null   bool   \n",
      " 13  EMBARKED_Q  1309 non-null   bool   \n",
      "dtypes: bool(3), float64(3), int64(3), object(5)\n",
      "memory usage: 116.5+ KB\n"
     ]
    }
   ],
   "source": [
    "data_df.info()"
   ]
  },
  {
   "cell_type": "markdown",
   "metadata": {},
   "source": [
    "## Declare Targets"
   ]
  },
  {
   "cell_type": "code",
   "execution_count": 6,
   "metadata": {},
   "outputs": [
    {
     "data": {
      "text/plain": [
       "['EMBARKED', 'EMBARKED_S', 'EMBARKED_C', 'EMBARKED_Q']"
      ]
     },
     "execution_count": 6,
     "metadata": {},
     "output_type": "execute_result"
    }
   ],
   "source": [
    "target_columns = [col for col in data_df.columns if col == col.upper()]\n",
    "target_columns"
   ]
  },
  {
   "cell_type": "code",
   "execution_count": 22,
   "metadata": {},
   "outputs": [
    {
     "data": {
      "text/plain": [
       "['EMBARKED_Q', 'EMBARKED_S', 'EMBARKED_C']"
      ]
     },
     "execution_count": 22,
     "metadata": {},
     "output_type": "execute_result"
    }
   ],
   "source": [
    "binary_target_columnns = ['EMBARKED_Q', 'EMBARKED_S', 'EMBARKED_C']\n",
    "binary_target_columnns"
   ]
  },
  {
   "cell_type": "markdown",
   "metadata": {},
   "source": [
    "## Workflow 1.0"
   ]
  },
  {
   "cell_type": "code",
   "execution_count": 32,
   "metadata": {},
   "outputs": [
    {
     "name": "stdout",
     "output_type": "stream",
     "text": [
      "2020-04-03 20:43:39.456308 Working on target: EMBARKED_Q\n",
      "2020-04-03 20:43:39.458253 Got target's natural class weights:\n",
      "{False: 0.906035141329259, True: 0.09396485867074103} \n",
      "\n",
      "2020-04-03 20:43:39.460380 Using sample size: 0.01\n",
      "2020-04-03 20:43:39.460458 Using sample size: 0.05\n",
      "2020-04-03 20:43:39.460527 Using sample size: 0.1\n",
      "2020-04-03 20:43:39.460595 Using sample size: 0.2\n",
      "2020-04-03 20:43:39.460661 Using sample size: 0.4\n",
      "2020-04-03 20:43:39.460727 Using sample size: 0.8\n",
      "2020-04-03 20:43:39.460791 Using sample size: 1.0\n",
      "2020-04-03 20:43:39.460882 Working on target: EMBARKED_S\n",
      "2020-04-03 20:43:39.463270 Got target's natural class weights:\n",
      "{True: 0.6982429335370511, False: 0.3017570664629488} \n",
      "\n",
      "2020-04-03 20:43:39.464238 Using sample size: 0.01\n",
      "2020-04-03 20:43:39.465615 Using sample size: 0.05\n",
      "2020-04-03 20:43:39.465687 Using sample size: 0.1\n",
      "2020-04-03 20:43:39.465749 Using sample size: 0.2\n",
      "2020-04-03 20:43:39.465811 Using sample size: 0.4\n",
      "2020-04-03 20:43:39.466234 Using sample size: 0.8\n",
      "2020-04-03 20:43:39.466650 Using sample size: 1.0\n",
      "2020-04-03 20:43:39.466856 Working on target: EMBARKED_C\n",
      "2020-04-03 20:43:39.470698 Got target's natural class weights:\n",
      "{False: 0.7937356760886173, True: 0.20626432391138275} \n",
      "\n",
      "2020-04-03 20:43:39.472129 Using sample size: 0.01\n",
      "2020-04-03 20:43:39.472210 Using sample size: 0.05\n",
      "2020-04-03 20:43:39.472468 Using sample size: 0.1\n",
      "2020-04-03 20:43:39.472542 Using sample size: 0.2\n",
      "2020-04-03 20:43:39.472608 Using sample size: 0.4\n",
      "2020-04-03 20:43:39.472875 Using sample size: 0.8\n",
      "2020-04-03 20:43:39.473025 Using sample size: 1.0\n"
     ]
    }
   ],
   "source": [
    "# initialize a storage dict\n",
    "target_class_weights = {}\n",
    "verbose = notebook_verbose\n",
    "\n",
    "# for each binary target\n",
    "for binary_target in binary_target_columnns:\n",
    "    \n",
    "    if verbose:\n",
    "        print(datetime.now(), 'Working on target:', binary_target)\n",
    "    \n",
    "    # get natural class weights\n",
    "    target_class_weights[binary_target] = {\n",
    "        clss:sum(data_df[binary_target]==clss)/data_df.shape[0]\n",
    "        for clss in data_df[binary_target].unique()\n",
    "    }\n",
    "    \n",
    "    if verbose:\n",
    "        print(datetime.now(), \"Got target's natural class weights:\")\n",
    "        print(target_class_weights[binary_target], '\\n')\n",
    "    \n",
    "    # define sample sizes\n",
    "    for sample_size in [.01, .05, .10, .20, .40, .80, 1.00]:\n",
    "        if verbose:\n",
    "            print(datetime.now(), '''Using sample size:''', sample_size)"
   ]
  },
  {
   "cell_type": "code",
   "execution_count": 24,
   "metadata": {},
   "outputs": [
    {
     "data": {
      "text/plain": [
       "{'EMBARKED_Q': {False: 0.906035141329259, True: 0.09396485867074103},\n",
       " 'EMBARKED_S': {True: 0.6982429335370511, False: 0.3017570664629488},\n",
       " 'EMBARKED_C': {False: 0.7937356760886173, True: 0.20626432391138275}}"
      ]
     },
     "execution_count": 24,
     "metadata": {},
     "output_type": "execute_result"
    }
   ],
   "source": [
    "target_class_weights"
   ]
  }
 ],
 "metadata": {
  "kernelspec": {
   "display_name": "Python 3",
   "language": "python",
   "name": "python3"
  },
  "language_info": {
   "codemirror_mode": {
    "name": "ipython",
    "version": 3
   },
   "file_extension": ".py",
   "mimetype": "text/x-python",
   "name": "python",
   "nbconvert_exporter": "python",
   "pygments_lexer": "ipython3",
   "version": "3.8.1"
  }
 },
 "nbformat": 4,
 "nbformat_minor": 2
}
